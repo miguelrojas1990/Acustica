{
 "cells": [
  {
   "cell_type": "markdown",
   "id": "bd0bcc6a",
   "metadata": {},
   "source": [
    "## Acustica y Distribución acustica"
   ]
  },
  {
   "cell_type": "code",
   "execution_count": 1,
   "id": "991f7eba",
   "metadata": {},
   "outputs": [],
   "source": [
    "#Tipos de bocinas"
   ]
  },
  {
   "cell_type": "code",
   "execution_count": 2,
   "id": "c0a1d314",
   "metadata": {},
   "outputs": [],
   "source": [
    "#Distribución y dirección acustica\n",
    "#Alcance"
   ]
  },
  {
   "cell_type": "code",
   "execution_count": 3,
   "id": "126f5418",
   "metadata": {},
   "outputs": [],
   "source": [
    "#Entrenamiento vs realidad"
   ]
  },
  {
   "cell_type": "code",
   "execution_count": null,
   "id": "f3e8a72b",
   "metadata": {},
   "outputs": [],
   "source": [
    "#Tipo de lugar y rebote"
   ]
  }
 ],
 "metadata": {
  "kernelspec": {
   "display_name": "Python 3 (ipykernel)",
   "language": "python",
   "name": "python3"
  },
  "language_info": {
   "codemirror_mode": {
    "name": "ipython",
    "version": 3
   },
   "file_extension": ".py",
   "mimetype": "text/x-python",
   "name": "python",
   "nbconvert_exporter": "python",
   "pygments_lexer": "ipython3",
   "version": "3.9.13"
  }
 },
 "nbformat": 4,
 "nbformat_minor": 5
}
