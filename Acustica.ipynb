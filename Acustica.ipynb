{
 "cells": [
  {
   "cell_type": "markdown",
   "id": "c4606ec5",
   "metadata": {},
   "source": [
    "## Acustica y Distribución acustica"
   ]
  },
  {
   "cell_type": "markdown",
   "id": "e8ea7170",
   "metadata": {},
   "source": [
    "Fuente de apoyo:"
   ]
  },
  {
   "cell_type": "markdown",
   "id": "fb1c4294",
   "metadata": {},
   "source": [
    "https://github.com/alvaradolucho/fundamentos_de_acustica_old/blob/main/content/unidad1-fundamentos_del_sonido.ipynb"
   ]
  },
  {
   "cell_type": "code",
   "execution_count": 7,
   "id": "94010468",
   "metadata": {},
   "outputs": [],
   "source": [
    "#Tipos de bocinas"
   ]
  },
  {
   "cell_type": "code",
   "execution_count": 4,
   "id": "81ec7489",
   "metadata": {},
   "outputs": [],
   "source": [
    "#Distribución y dirección acustica\n",
    "#Alcance"
   ]
  },
  {
   "cell_type": "markdown",
   "id": "a5554b80",
   "metadata": {},
   "source": [
    "Acústica:\n",
    "Acústica es la rama de la física que estudia los fenómenos asociados a la generación, propagación y recepción del sonido.\n",
    "\n",
    "El sonido es una perturbación producida en un medio elástico, como el aire. Aquellas perturbaciones suelen ser extremadamente pequeñas, pero alguna suficientemente grande será visible al ojo humano, como en el siguiente caso."
   ]
  },
  {
   "cell_type": "markdown",
   "id": "50b4c773",
   "metadata": {},
   "source": [
    "# Sonido"
   ]
  },
  {
   "cell_type": "markdown",
   "id": "2db83aa1",
   "metadata": {},
   "source": [
    "Entenderemos como sonido a aquellas pertubaciones en el aire (desde ahora señales acústicas) que pueden ser percibidas por el ser humano. El oído humano es capaz de escuchar las perturbaciones sonoras entre las 20 y las 20.000 oscilaciones por cada segundo (o Hz). Todo lo demás es imperceptible por el oído humano, siendo el rango inferior conocido como infrasonido y el superior como ultrasonido."
   ]
  },
  {
   "cell_type": "markdown",
   "id": "2bd44575",
   "metadata": {},
   "source": [
    "### Rangos de frecuencia"
   ]
  },
  {
   "cell_type": "markdown",
   "id": "65294755",
   "metadata": {},
   "source": [
    "Menor a 20 Hz\tEntre 20 Hz a 20 kHz\tMayor a 20 kHz\n",
    "\n",
    "Infrasonido\t            Sonido\t             Ultrasonido"
   ]
  },
  {
   "cell_type": "markdown",
   "id": "ada06272",
   "metadata": {},
   "source": [
    "## Elementos del sonido"
   ]
  },
  {
   "cell_type": "markdown",
   "id": "1ebb75aa",
   "metadata": {},
   "source": [
    "Actualmente se reconocen cinco elementos del sonido: amplitud, frecuencia, timbre, duración y ataque.\n",
    "\n",
    "Amplitud: Se refiere al tamaño de la onda y está relacionado con la intensidad sonora, o dicho de otra forma: sonoridad (loudness).\n",
    "\n",
    "Tono: Se refiere a la altura tonal de la onda y está relacionada con la frecuencia de oscilación.\n",
    "\n",
    "Timbre: Se refiere a la cualidad que hace distinguibles a las fuentes sonoras. Está relacionada con la forma de la onda y su espectro de frecuencias.\n",
    "\n",
    "Duración: El tiempo en que el sonido se mantiene en ejecución.\n",
    "\n",
    "Ataque: El tiempo en que el sonido demora en llegar, desde el silencio hasta su máxima amplitud. Está relacionada con la percusividad del sonido."
   ]
  },
  {
   "cell_type": "code",
   "execution_count": 3,
   "id": "37c12fd0",
   "metadata": {},
   "outputs": [],
   "source": [
    "#Entrenamiento vs realidad"
   ]
  },
  {
   "cell_type": "code",
   "execution_count": 8,
   "id": "fcbc03b7",
   "metadata": {},
   "outputs": [],
   "source": [
    "#Tipo de lugar y rebote"
   ]
  },
  {
   "cell_type": "markdown",
   "id": "a8750d74",
   "metadata": {},
   "source": [
    "### Sonido de prueba"
   ]
  },
  {
   "cell_type": "code",
   "execution_count": 32,
   "id": "89c9bfe7",
   "metadata": {},
   "outputs": [
    {
     "name": "stdout",
     "output_type": "stream",
     "text": [
      "Requirement already satisfied: pyaudio in c:\\users\\user\\anaconda3\\lib\\site-packages (0.2.13)\n"
     ]
    },
    {
     "name": "stderr",
     "output_type": "stream",
     "text": [
      "ERROR: Could not find a version that satisfies the requirement time (from versions: none)\n",
      "ERROR: No matching distribution found for time\n"
     ]
    }
   ],
   "source": [
    "!pip install pyaudio\n",
    "!pip install time\n",
    "import pyaudio\n",
    "import numpy as np\n",
    "import time"
   ]
  },
  {
   "cell_type": "code",
   "execution_count": 36,
   "id": "81442700",
   "metadata": {},
   "outputs": [],
   "source": [
    "# Configuración de la frecuencia de muestreo y la duración del sonido\n",
    "fs = 44100\n",
    "duration = 10  # en segundos"
   ]
  },
  {
   "cell_type": "code",
   "execution_count": 37,
   "id": "d3905e1a",
   "metadata": {},
   "outputs": [],
   "source": [
    "# Crear un objeto PyAudio\n",
    "p = pyaudio.PyAudio()"
   ]
  },
  {
   "cell_type": "code",
   "execution_count": 38,
   "id": "bc41b5d2",
   "metadata": {},
   "outputs": [],
   "source": [
    "# Configurar los parámetros de la forma de onda a emitir\n",
    "frequency = 440  # en Hz\n",
    "samples = (np.sin(2*np.pi*np.arange(fs*duration)*frequency/fs)).astype(np.float32)"
   ]
  },
  {
   "cell_type": "code",
   "execution_count": 39,
   "id": "c8c9f540",
   "metadata": {},
   "outputs": [],
   "source": [
    "# Abrir un flujo de audio para reproducir el sonido\n",
    "stream = p.open(format=pyaudio.paFloat32,\n",
    "                channels=1,\n",
    "                rate=fs,\n",
    "                output=True)"
   ]
  },
  {
   "cell_type": "code",
   "execution_count": 40,
   "id": "4a3a49a3",
   "metadata": {},
   "outputs": [],
   "source": [
    "# Reproducir el sonido\n",
    "stream.write(samples)"
   ]
  },
  {
   "cell_type": "code",
   "execution_count": null,
   "id": "080c4c8b",
   "metadata": {},
   "outputs": [],
   "source": []
  },
  {
   "cell_type": "markdown",
   "id": "e8c8e4ab",
   "metadata": {},
   "source": [
    "### Calculo con una canción"
   ]
  },
  {
   "cell_type": "code",
   "execution_count": 43,
   "id": "5a333447",
   "metadata": {},
   "outputs": [
    {
     "name": "stdout",
     "output_type": "stream",
     "text": [
      "Collecting librosa\n",
      "  Downloading librosa-0.10.0.post2-py3-none-any.whl (253 kB)\n",
      "     -------------------------------------- 253.0/253.0 kB 1.3 MB/s eta 0:00:00\n",
      "Collecting soundfile>=0.12.1\n",
      "  Downloading soundfile-0.12.1-py2.py3-none-win_amd64.whl (1.0 MB)\n",
      "     ---------------------------------------- 1.0/1.0 MB 5.8 MB/s eta 0:00:00\n",
      "Collecting pooch<1.7,>=1.0\n",
      "  Downloading pooch-1.6.0-py3-none-any.whl (56 kB)\n",
      "     -------------------------------------- 56.3/56.3 kB 590.0 kB/s eta 0:00:00\n",
      "Requirement already satisfied: typing-extensions>=4.1.1 in c:\\users\\user\\anaconda3\\lib\\site-packages (from librosa) (4.3.0)\n",
      "Collecting soxr>=0.3.2\n",
      "  Downloading soxr-0.3.5-cp39-cp39-win_amd64.whl (184 kB)\n",
      "     -------------------------------------- 184.2/184.2 kB 3.7 MB/s eta 0:00:00\n",
      "Requirement already satisfied: msgpack>=1.0 in c:\\users\\user\\anaconda3\\lib\\site-packages (from librosa) (1.0.3)\n",
      "Requirement already satisfied: scikit-learn>=0.20.0 in c:\\users\\user\\anaconda3\\lib\\site-packages (from librosa) (1.0.2)\n",
      "Requirement already satisfied: numpy!=1.22.0,!=1.22.1,!=1.22.2,>=1.20.3 in c:\\users\\user\\anaconda3\\lib\\site-packages (from librosa) (1.21.5)\n",
      "Requirement already satisfied: scipy>=1.2.0 in c:\\users\\user\\anaconda3\\lib\\site-packages (from librosa) (1.9.1)\n",
      "Requirement already satisfied: decorator>=4.3.0 in c:\\users\\user\\anaconda3\\lib\\site-packages (from librosa) (5.1.1)\n",
      "Collecting audioread>=2.1.9\n",
      "  Downloading audioread-3.0.0.tar.gz (377 kB)\n",
      "     -------------------------------------- 377.0/377.0 kB 3.9 MB/s eta 0:00:00\n",
      "  Preparing metadata (setup.py): started\n",
      "  Preparing metadata (setup.py): finished with status 'done'\n",
      "Collecting lazy-loader>=0.1\n",
      "  Downloading lazy_loader-0.2-py3-none-any.whl (8.6 kB)\n",
      "Requirement already satisfied: numba>=0.51.0 in c:\\users\\user\\anaconda3\\lib\\site-packages (from librosa) (0.55.1)\n",
      "Requirement already satisfied: joblib>=0.14 in c:\\users\\user\\anaconda3\\lib\\site-packages (from librosa) (1.1.0)\n",
      "Requirement already satisfied: setuptools in c:\\users\\user\\anaconda3\\lib\\site-packages (from numba>=0.51.0->librosa) (63.4.1)\n",
      "Requirement already satisfied: llvmlite<0.39,>=0.38.0rc1 in c:\\users\\user\\anaconda3\\lib\\site-packages (from numba>=0.51.0->librosa) (0.38.0)\n",
      "Requirement already satisfied: requests>=2.19.0 in c:\\users\\user\\anaconda3\\lib\\site-packages (from pooch<1.7,>=1.0->librosa) (2.28.1)\n",
      "Requirement already satisfied: appdirs>=1.3.0 in c:\\users\\user\\anaconda3\\lib\\site-packages (from pooch<1.7,>=1.0->librosa) (1.4.4)\n",
      "Requirement already satisfied: packaging>=20.0 in c:\\users\\user\\anaconda3\\lib\\site-packages (from pooch<1.7,>=1.0->librosa) (21.3)\n",
      "Requirement already satisfied: threadpoolctl>=2.0.0 in c:\\users\\user\\anaconda3\\lib\\site-packages (from scikit-learn>=0.20.0->librosa) (2.2.0)\n",
      "Requirement already satisfied: cffi>=1.0 in c:\\users\\user\\anaconda3\\lib\\site-packages (from soundfile>=0.12.1->librosa) (1.15.1)\n",
      "Requirement already satisfied: pycparser in c:\\users\\user\\anaconda3\\lib\\site-packages (from cffi>=1.0->soundfile>=0.12.1->librosa) (2.21)\n",
      "Requirement already satisfied: pyparsing!=3.0.5,>=2.0.2 in c:\\users\\user\\anaconda3\\lib\\site-packages (from packaging>=20.0->pooch<1.7,>=1.0->librosa) (3.0.9)\n",
      "Requirement already satisfied: idna<4,>=2.5 in c:\\users\\user\\anaconda3\\lib\\site-packages (from requests>=2.19.0->pooch<1.7,>=1.0->librosa) (3.3)\n",
      "Requirement already satisfied: certifi>=2017.4.17 in c:\\users\\user\\anaconda3\\lib\\site-packages (from requests>=2.19.0->pooch<1.7,>=1.0->librosa) (2022.9.14)\n",
      "Requirement already satisfied: charset-normalizer<3,>=2 in c:\\users\\user\\anaconda3\\lib\\site-packages (from requests>=2.19.0->pooch<1.7,>=1.0->librosa) (2.0.4)\n",
      "Requirement already satisfied: urllib3<1.27,>=1.21.1 in c:\\users\\user\\anaconda3\\lib\\site-packages (from requests>=2.19.0->pooch<1.7,>=1.0->librosa) (1.26.11)\n",
      "Building wheels for collected packages: audioread\n",
      "  Building wheel for audioread (setup.py): started\n",
      "  Building wheel for audioread (setup.py): finished with status 'done'\n",
      "  Created wheel for audioread: filename=audioread-3.0.0-py3-none-any.whl size=23703 sha256=6b1901d7e8c4cf7fa54dc96509fbdefc46203718f8be147b7c4634763e50d236\n",
      "  Stored in directory: c:\\users\\user\\appdata\\local\\pip\\cache\\wheels\\e4\\76\\a4\\cfb55573167a1f5bde7d7a348e95e509c64b2c3e8f921932c3\n",
      "Successfully built audioread\n",
      "Installing collected packages: soxr, lazy-loader, audioread, soundfile, pooch, librosa\n",
      "Successfully installed audioread-3.0.0 lazy-loader-0.2 librosa-0.10.0.post2 pooch-1.6.0 soundfile-0.12.1 soxr-0.3.5\n"
     ]
    }
   ],
   "source": [
    "# Importar las bibliotecas necesarias\n",
    "!pip install librosa\n",
    "import librosa\n",
    "import numpy as np\n",
    "import matplotlib.pyplot as plt"
   ]
  },
  {
   "cell_type": "code",
   "execution_count": null,
   "id": "44681419",
   "metadata": {},
   "outputs": [],
   "source": [
    "# Preguntar al usuario la temperatura y el tamaño del lugar\n",
    "temperatura = float(input(\"Introduce la temperatura en grados Celsius: \"))\n",
    "tamano_lugar = float(input(\"Introduce el tamaño del lugar (m^2): \"))"
   ]
  },
  {
   "cell_type": "code",
   "execution_count": null,
   "id": "e2434304",
   "metadata": {},
   "outputs": [],
   "source": [
    "# Calcular la velocidad del sonido a partir de la temperatura\n",
    "velocidad_sonido = 331.5 + 0.6 * temperatura"
   ]
  },
  {
   "cell_type": "code",
   "execution_count": null,
   "id": "f536873e",
   "metadata": {},
   "outputs": [],
   "source": [
    "# Cargar la canción y separarla en componentes\n",
    "cancion, _ = librosa.load(\"ruta_de_la_cancion\", sr=44100, mono=True)\n",
    "componentes_cancion = librosa.effects.split(cancion)"
   ]
  },
  {
   "cell_type": "code",
   "execution_count": null,
   "id": "47c6337a",
   "metadata": {},
   "outputs": [],
   "source": [
    "# Analizar el sonido de cada componente\n",
    "for componente in componentes_cancion:\n",
    "    # Calcular la amplitud y la frecuencia del sonido\n",
    "    amplitud = np.max(np.abs(componente))\n",
    "    frecuencia = librosa.fft_frequencies(sr=44100, n_fft=len(componente))\n"
   ]
  },
  {
   "cell_type": "code",
   "execution_count": null,
   "id": "c0e74f5c",
   "metadata": {},
   "outputs": [],
   "source": [
    "# Calcular la duración del sonido\n",
    "    duracion = librosa.get_duration(componente, sr=44100)"
   ]
  },
  {
   "cell_type": "code",
   "execution_count": null,
   "id": "9ef3b30c",
   "metadata": {},
   "outputs": [],
   "source": [
    " # Calcular el nivel de presión sonora\n",
    "    nivel_presion = 20 * np.log10(amplitud / (10 ** (-12)))"
   ]
  },
  {
   "cell_type": "code",
   "execution_count": null,
   "id": "bd68c27b",
   "metadata": {},
   "outputs": [],
   "source": [
    "# Calcular la intensidad del sonido\n",
    "    intensidad = amplitud ** 2 / (2 * 1.225 * velocidad_sonido * duracion)"
   ]
  },
  {
   "cell_type": "code",
   "execution_count": null,
   "id": "b0e2c7ea",
   "metadata": {},
   "outputs": [],
   "source": [
    "# Calcular el número de bocinas necesarias\n",
    "    num_bocinas = np.ceil(intensidad * tamano_lugar / nivel_presion)"
   ]
  },
  {
   "cell_type": "code",
   "execution_count": null,
   "id": "1a8b3431",
   "metadata": {},
   "outputs": [],
   "source": [
    "# Imprimir los resultados\n",
    "    print(f\"Componente de la canción con duración {duracion:.2f} s:\")\n",
    "    print(f\" - Amplitud: {amplitud:.2f}\")\n",
    "    print(f\" - Frecuencia máxima: {frecuencia[-1]:.2f} Hz\")\n",
    "    print(f\" - Nivel de presión sonora: {nivel_presion:.2f} dB\")\n",
    "    print(f\" - Intensidad: {intensidad:.2f} W/m^2\")\n",
    "    print(f\" - Número de bocinas necesarias: {num_bocinas:.0f}\\n\")"
   ]
  },
  {
   "cell_type": "markdown",
   "id": "f8181b94",
   "metadata": {},
   "source": [
    "donde v es la velocidad del sonido en metros por segundo, y t es la temperatura en grados Celsius.\n",
    "\n",
    "En la línea 13 del código, se utiliza la frecuencia de muestreo de 44100 Hz (sr=44100) porque es una frecuencia de muestreo común para audio digital. Esto significa que se tomaron 44100 muestras de audio por segundo para crear la señal de audio digital que se está analizando.\n",
    "\n",
    "La presión sonora es una medida de la presión de las ondas sonoras en el aire. Se mide en decibelios (dB) utilizando una escala logarítmica, donde 0 dB corresponde a la presión sonora mínima audible por el oído humano. El número 20 que se utiliza en la ecuación (nivel_presion = 20 * np.log10(amplitud / (10 ** (-12)))) es el factor de conversión para convertir la amplitud de la señal de audio en una medida de presión sonora en dB. El número 10 en la ecuación corresponde al nivel de referencia de la presión sonora, que es 10^-12 Pa. Por lo tanto, la ecuación calcula el nivel de presión sonora en dB como 20 veces el logaritmo en base 10 de la relación entre la amplitud de la señal de audio y el nivel de referencia de la presión sonora."
   ]
  }
 ],
 "metadata": {
  "kernelspec": {
   "display_name": "Python 3 (ipykernel)",
   "language": "python",
   "name": "python3"
  },
  "language_info": {
   "codemirror_mode": {
    "name": "ipython",
    "version": 3
   },
   "file_extension": ".py",
   "mimetype": "text/x-python",
   "name": "python",
   "nbconvert_exporter": "python",
   "pygments_lexer": "ipython3",
   "version": "3.9.13"
  }
 },
 "nbformat": 4,
 "nbformat_minor": 5
}
